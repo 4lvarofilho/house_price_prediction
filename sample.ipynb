{
 "cells": [
  {
   "metadata": {},
   "cell_type": "markdown",
   "source": "<h1>🏠 Previsão de Preços de Casas<h1>",
   "id": "8a77807f92f26ee"
  },
  {
   "metadata": {},
   "cell_type": "markdown",
   "source": "1. Importação das bibliotecas necessárias",
   "id": "164a3ffa5af259a"
  },
  {
   "metadata": {
    "ExecuteTime": {
     "end_time": "2024-11-21T05:36:32.118072Z",
     "start_time": "2024-11-21T05:36:31.328306Z"
    }
   },
   "cell_type": "code",
   "source": [
    "import pandas as pd\n",
    "import numpy as np\n",
    "import matplotlib.pyplot as plt\n",
    "import seaborn as sns\n",
    "from sklearn.model_selection import train_test_split"
   ],
   "id": "fbc121e30a2defb3",
   "outputs": [],
   "execution_count": 23
  },
  {
   "metadata": {},
   "cell_type": "markdown",
   "source": "2. Carregar os dataframes de treinamento e teste",
   "id": "630eeb6c613bcd74"
  },
  {
   "metadata": {
    "ExecuteTime": {
     "end_time": "2024-11-21T00:09:26.606744Z",
     "start_time": "2024-11-21T00:09:26.538037Z"
    }
   },
   "cell_type": "code",
   "source": [
    "train_df = pd.read_csv('./data/train.csv')\n",
    "test_df = pd.read_csv('./data/test.csv')"
   ],
   "id": "171d6a27f599647c",
   "outputs": [],
   "execution_count": 2
  },
  {
   "metadata": {
    "ExecuteTime": {
     "end_time": "2024-11-21T00:09:28.206602Z",
     "start_time": "2024-11-21T00:09:28.198752Z"
    }
   },
   "cell_type": "code",
   "source": [
    "X = train_df.drop(['SalePrice', 'Id'], axis=1)\n",
    "y = train_df['SalePrice']"
   ],
   "id": "b5d31fa78d0a9f63",
   "outputs": [],
   "execution_count": 3
  },
  {
   "metadata": {
    "ExecuteTime": {
     "end_time": "2024-11-21T00:09:29.471793Z",
     "start_time": "2024-11-21T00:09:29.445193Z"
    }
   },
   "cell_type": "code",
   "source": "train_df.head()",
   "id": "6601a6abac0747f6",
   "outputs": [
    {
     "data": {
      "text/plain": [
       "   Id  MSSubClass MSZoning  LotFrontage  LotArea Street Alley LotShape  \\\n",
       "0   1          60       RL         65.0     8450   Pave   NaN      Reg   \n",
       "1   2          20       RL         80.0     9600   Pave   NaN      Reg   \n",
       "2   3          60       RL         68.0    11250   Pave   NaN      IR1   \n",
       "3   4          70       RL         60.0     9550   Pave   NaN      IR1   \n",
       "4   5          60       RL         84.0    14260   Pave   NaN      IR1   \n",
       "\n",
       "  LandContour Utilities  ... PoolArea PoolQC Fence MiscFeature MiscVal MoSold  \\\n",
       "0         Lvl    AllPub  ...        0    NaN   NaN         NaN       0      2   \n",
       "1         Lvl    AllPub  ...        0    NaN   NaN         NaN       0      5   \n",
       "2         Lvl    AllPub  ...        0    NaN   NaN         NaN       0      9   \n",
       "3         Lvl    AllPub  ...        0    NaN   NaN         NaN       0      2   \n",
       "4         Lvl    AllPub  ...        0    NaN   NaN         NaN       0     12   \n",
       "\n",
       "  YrSold  SaleType  SaleCondition  SalePrice  \n",
       "0   2008        WD         Normal     208500  \n",
       "1   2007        WD         Normal     181500  \n",
       "2   2008        WD         Normal     223500  \n",
       "3   2006        WD        Abnorml     140000  \n",
       "4   2008        WD         Normal     250000  \n",
       "\n",
       "[5 rows x 81 columns]"
      ],
      "text/html": [
       "<div>\n",
       "<style scoped>\n",
       "    .dataframe tbody tr th:only-of-type {\n",
       "        vertical-align: middle;\n",
       "    }\n",
       "\n",
       "    .dataframe tbody tr th {\n",
       "        vertical-align: top;\n",
       "    }\n",
       "\n",
       "    .dataframe thead th {\n",
       "        text-align: right;\n",
       "    }\n",
       "</style>\n",
       "<table border=\"1\" class=\"dataframe\">\n",
       "  <thead>\n",
       "    <tr style=\"text-align: right;\">\n",
       "      <th></th>\n",
       "      <th>Id</th>\n",
       "      <th>MSSubClass</th>\n",
       "      <th>MSZoning</th>\n",
       "      <th>LotFrontage</th>\n",
       "      <th>LotArea</th>\n",
       "      <th>Street</th>\n",
       "      <th>Alley</th>\n",
       "      <th>LotShape</th>\n",
       "      <th>LandContour</th>\n",
       "      <th>Utilities</th>\n",
       "      <th>...</th>\n",
       "      <th>PoolArea</th>\n",
       "      <th>PoolQC</th>\n",
       "      <th>Fence</th>\n",
       "      <th>MiscFeature</th>\n",
       "      <th>MiscVal</th>\n",
       "      <th>MoSold</th>\n",
       "      <th>YrSold</th>\n",
       "      <th>SaleType</th>\n",
       "      <th>SaleCondition</th>\n",
       "      <th>SalePrice</th>\n",
       "    </tr>\n",
       "  </thead>\n",
       "  <tbody>\n",
       "    <tr>\n",
       "      <th>0</th>\n",
       "      <td>1</td>\n",
       "      <td>60</td>\n",
       "      <td>RL</td>\n",
       "      <td>65.0</td>\n",
       "      <td>8450</td>\n",
       "      <td>Pave</td>\n",
       "      <td>NaN</td>\n",
       "      <td>Reg</td>\n",
       "      <td>Lvl</td>\n",
       "      <td>AllPub</td>\n",
       "      <td>...</td>\n",
       "      <td>0</td>\n",
       "      <td>NaN</td>\n",
       "      <td>NaN</td>\n",
       "      <td>NaN</td>\n",
       "      <td>0</td>\n",
       "      <td>2</td>\n",
       "      <td>2008</td>\n",
       "      <td>WD</td>\n",
       "      <td>Normal</td>\n",
       "      <td>208500</td>\n",
       "    </tr>\n",
       "    <tr>\n",
       "      <th>1</th>\n",
       "      <td>2</td>\n",
       "      <td>20</td>\n",
       "      <td>RL</td>\n",
       "      <td>80.0</td>\n",
       "      <td>9600</td>\n",
       "      <td>Pave</td>\n",
       "      <td>NaN</td>\n",
       "      <td>Reg</td>\n",
       "      <td>Lvl</td>\n",
       "      <td>AllPub</td>\n",
       "      <td>...</td>\n",
       "      <td>0</td>\n",
       "      <td>NaN</td>\n",
       "      <td>NaN</td>\n",
       "      <td>NaN</td>\n",
       "      <td>0</td>\n",
       "      <td>5</td>\n",
       "      <td>2007</td>\n",
       "      <td>WD</td>\n",
       "      <td>Normal</td>\n",
       "      <td>181500</td>\n",
       "    </tr>\n",
       "    <tr>\n",
       "      <th>2</th>\n",
       "      <td>3</td>\n",
       "      <td>60</td>\n",
       "      <td>RL</td>\n",
       "      <td>68.0</td>\n",
       "      <td>11250</td>\n",
       "      <td>Pave</td>\n",
       "      <td>NaN</td>\n",
       "      <td>IR1</td>\n",
       "      <td>Lvl</td>\n",
       "      <td>AllPub</td>\n",
       "      <td>...</td>\n",
       "      <td>0</td>\n",
       "      <td>NaN</td>\n",
       "      <td>NaN</td>\n",
       "      <td>NaN</td>\n",
       "      <td>0</td>\n",
       "      <td>9</td>\n",
       "      <td>2008</td>\n",
       "      <td>WD</td>\n",
       "      <td>Normal</td>\n",
       "      <td>223500</td>\n",
       "    </tr>\n",
       "    <tr>\n",
       "      <th>3</th>\n",
       "      <td>4</td>\n",
       "      <td>70</td>\n",
       "      <td>RL</td>\n",
       "      <td>60.0</td>\n",
       "      <td>9550</td>\n",
       "      <td>Pave</td>\n",
       "      <td>NaN</td>\n",
       "      <td>IR1</td>\n",
       "      <td>Lvl</td>\n",
       "      <td>AllPub</td>\n",
       "      <td>...</td>\n",
       "      <td>0</td>\n",
       "      <td>NaN</td>\n",
       "      <td>NaN</td>\n",
       "      <td>NaN</td>\n",
       "      <td>0</td>\n",
       "      <td>2</td>\n",
       "      <td>2006</td>\n",
       "      <td>WD</td>\n",
       "      <td>Abnorml</td>\n",
       "      <td>140000</td>\n",
       "    </tr>\n",
       "    <tr>\n",
       "      <th>4</th>\n",
       "      <td>5</td>\n",
       "      <td>60</td>\n",
       "      <td>RL</td>\n",
       "      <td>84.0</td>\n",
       "      <td>14260</td>\n",
       "      <td>Pave</td>\n",
       "      <td>NaN</td>\n",
       "      <td>IR1</td>\n",
       "      <td>Lvl</td>\n",
       "      <td>AllPub</td>\n",
       "      <td>...</td>\n",
       "      <td>0</td>\n",
       "      <td>NaN</td>\n",
       "      <td>NaN</td>\n",
       "      <td>NaN</td>\n",
       "      <td>0</td>\n",
       "      <td>12</td>\n",
       "      <td>2008</td>\n",
       "      <td>WD</td>\n",
       "      <td>Normal</td>\n",
       "      <td>250000</td>\n",
       "    </tr>\n",
       "  </tbody>\n",
       "</table>\n",
       "<p>5 rows × 81 columns</p>\n",
       "</div>"
      ]
     },
     "execution_count": 4,
     "metadata": {},
     "output_type": "execute_result"
    }
   ],
   "execution_count": 4
  },
  {
   "metadata": {
    "ExecuteTime": {
     "end_time": "2024-11-21T00:09:31.142817Z",
     "start_time": "2024-11-21T00:09:31.128239Z"
    }
   },
   "cell_type": "code",
   "source": "train_df.info()",
   "id": "cfcf38eb020da464",
   "outputs": [
    {
     "name": "stdout",
     "output_type": "stream",
     "text": [
      "<class 'pandas.core.frame.DataFrame'>\n",
      "RangeIndex: 1460 entries, 0 to 1459\n",
      "Data columns (total 81 columns):\n",
      " #   Column         Non-Null Count  Dtype  \n",
      "---  ------         --------------  -----  \n",
      " 0   Id             1460 non-null   int64  \n",
      " 1   MSSubClass     1460 non-null   int64  \n",
      " 2   MSZoning       1460 non-null   object \n",
      " 3   LotFrontage    1201 non-null   float64\n",
      " 4   LotArea        1460 non-null   int64  \n",
      " 5   Street         1460 non-null   object \n",
      " 6   Alley          91 non-null     object \n",
      " 7   LotShape       1460 non-null   object \n",
      " 8   LandContour    1460 non-null   object \n",
      " 9   Utilities      1460 non-null   object \n",
      " 10  LotConfig      1460 non-null   object \n",
      " 11  LandSlope      1460 non-null   object \n",
      " 12  Neighborhood   1460 non-null   object \n",
      " 13  Condition1     1460 non-null   object \n",
      " 14  Condition2     1460 non-null   object \n",
      " 15  BldgType       1460 non-null   object \n",
      " 16  HouseStyle     1460 non-null   object \n",
      " 17  OverallQual    1460 non-null   int64  \n",
      " 18  OverallCond    1460 non-null   int64  \n",
      " 19  YearBuilt      1460 non-null   int64  \n",
      " 20  YearRemodAdd   1460 non-null   int64  \n",
      " 21  RoofStyle      1460 non-null   object \n",
      " 22  RoofMatl       1460 non-null   object \n",
      " 23  Exterior1st    1460 non-null   object \n",
      " 24  Exterior2nd    1460 non-null   object \n",
      " 25  MasVnrType     588 non-null    object \n",
      " 26  MasVnrArea     1452 non-null   float64\n",
      " 27  ExterQual      1460 non-null   object \n",
      " 28  ExterCond      1460 non-null   object \n",
      " 29  Foundation     1460 non-null   object \n",
      " 30  BsmtQual       1423 non-null   object \n",
      " 31  BsmtCond       1423 non-null   object \n",
      " 32  BsmtExposure   1422 non-null   object \n",
      " 33  BsmtFinType1   1423 non-null   object \n",
      " 34  BsmtFinSF1     1460 non-null   int64  \n",
      " 35  BsmtFinType2   1422 non-null   object \n",
      " 36  BsmtFinSF2     1460 non-null   int64  \n",
      " 37  BsmtUnfSF      1460 non-null   int64  \n",
      " 38  TotalBsmtSF    1460 non-null   int64  \n",
      " 39  Heating        1460 non-null   object \n",
      " 40  HeatingQC      1460 non-null   object \n",
      " 41  CentralAir     1460 non-null   object \n",
      " 42  Electrical     1459 non-null   object \n",
      " 43  1stFlrSF       1460 non-null   int64  \n",
      " 44  2ndFlrSF       1460 non-null   int64  \n",
      " 45  LowQualFinSF   1460 non-null   int64  \n",
      " 46  GrLivArea      1460 non-null   int64  \n",
      " 47  BsmtFullBath   1460 non-null   int64  \n",
      " 48  BsmtHalfBath   1460 non-null   int64  \n",
      " 49  FullBath       1460 non-null   int64  \n",
      " 50  HalfBath       1460 non-null   int64  \n",
      " 51  BedroomAbvGr   1460 non-null   int64  \n",
      " 52  KitchenAbvGr   1460 non-null   int64  \n",
      " 53  KitchenQual    1460 non-null   object \n",
      " 54  TotRmsAbvGrd   1460 non-null   int64  \n",
      " 55  Functional     1460 non-null   object \n",
      " 56  Fireplaces     1460 non-null   int64  \n",
      " 57  FireplaceQu    770 non-null    object \n",
      " 58  GarageType     1379 non-null   object \n",
      " 59  GarageYrBlt    1379 non-null   float64\n",
      " 60  GarageFinish   1379 non-null   object \n",
      " 61  GarageCars     1460 non-null   int64  \n",
      " 62  GarageArea     1460 non-null   int64  \n",
      " 63  GarageQual     1379 non-null   object \n",
      " 64  GarageCond     1379 non-null   object \n",
      " 65  PavedDrive     1460 non-null   object \n",
      " 66  WoodDeckSF     1460 non-null   int64  \n",
      " 67  OpenPorchSF    1460 non-null   int64  \n",
      " 68  EnclosedPorch  1460 non-null   int64  \n",
      " 69  3SsnPorch      1460 non-null   int64  \n",
      " 70  ScreenPorch    1460 non-null   int64  \n",
      " 71  PoolArea       1460 non-null   int64  \n",
      " 72  PoolQC         7 non-null      object \n",
      " 73  Fence          281 non-null    object \n",
      " 74  MiscFeature    54 non-null     object \n",
      " 75  MiscVal        1460 non-null   int64  \n",
      " 76  MoSold         1460 non-null   int64  \n",
      " 77  YrSold         1460 non-null   int64  \n",
      " 78  SaleType       1460 non-null   object \n",
      " 79  SaleCondition  1460 non-null   object \n",
      " 80  SalePrice      1460 non-null   int64  \n",
      "dtypes: float64(3), int64(35), object(43)\n",
      "memory usage: 924.0+ KB\n"
     ]
    }
   ],
   "execution_count": 5
  },
  {
   "metadata": {
    "ExecuteTime": {
     "end_time": "2024-11-21T00:09:41.311117Z",
     "start_time": "2024-11-21T00:09:41.300584Z"
    }
   },
   "cell_type": "code",
   "source": "train_df.isnull().sum()",
   "id": "748224e8a6519e9d",
   "outputs": [
    {
     "data": {
      "text/plain": [
       "Id                 0\n",
       "MSSubClass         0\n",
       "MSZoning           0\n",
       "LotFrontage      259\n",
       "LotArea            0\n",
       "                ... \n",
       "MoSold             0\n",
       "YrSold             0\n",
       "SaleType           0\n",
       "SaleCondition      0\n",
       "SalePrice          0\n",
       "Length: 81, dtype: int64"
      ]
     },
     "execution_count": 6,
     "metadata": {},
     "output_type": "execute_result"
    }
   ],
   "execution_count": 6
  },
  {
   "metadata": {},
   "cell_type": "markdown",
   "source": "3. Limpagem dos dados e pré-processamento",
   "id": "ceb24238c215d176"
  },
  {
   "metadata": {},
   "cell_type": "markdown",
   "source": "Aqui faremos a checagem de quais dados possuem valores nulos ou não-encontrados, qual é o tamanho dos dados, qual é o tipo de dados (datatype) de cada coluna, quais são os valores únicos de variáveis categóricas, etc.",
   "id": "55a4c6e8c6e9d651"
  },
  {
   "metadata": {
    "ExecuteTime": {
     "end_time": "2024-11-21T00:09:45.776930Z",
     "start_time": "2024-11-21T00:09:45.770721Z"
    }
   },
   "cell_type": "code",
   "source": [
    "print(f'Número de rows: {len(train_df)}')\n",
    "print(f'Número de columns: {len(train_df.columns)}')\n",
    "print(f'Data types de cada column:\\n{train_df.dtypes}')"
   ],
   "id": "3695ba77e72c4f08",
   "outputs": [
    {
     "name": "stdout",
     "output_type": "stream",
     "text": [
      "Número de rows: 1460\n",
      "Número de columns: 81\n",
      "Data types de cada column:\n",
      "Id                 int64\n",
      "MSSubClass         int64\n",
      "MSZoning          object\n",
      "LotFrontage      float64\n",
      "LotArea            int64\n",
      "                  ...   \n",
      "MoSold             int64\n",
      "YrSold             int64\n",
      "SaleType          object\n",
      "SaleCondition     object\n",
      "SalePrice          int64\n",
      "Length: 81, dtype: object\n"
     ]
    }
   ],
   "execution_count": 7
  },
  {
   "metadata": {
    "ExecuteTime": {
     "end_time": "2024-11-21T00:09:49.276742Z",
     "start_time": "2024-11-21T00:09:49.264633Z"
    }
   },
   "cell_type": "code",
   "source": [
    "print(train_df.isnull().any().sum(), ' / ', len(train_df.columns))\n",
    "print(train_df.isnull().any(axis=1).sum(), '/', len(train_df))"
   ],
   "id": "5c6f135364402127",
   "outputs": [
    {
     "name": "stdout",
     "output_type": "stream",
     "text": [
      "19  /  81\n",
      "1460 / 1460\n"
     ]
    }
   ],
   "execution_count": 8
  },
  {
   "metadata": {},
   "cell_type": "markdown",
   "source": "3.1. Lidando com valores não-encontrados",
   "id": "b860abc955f67f9f"
  },
  {
   "metadata": {
    "ExecuteTime": {
     "end_time": "2024-11-21T00:09:59.427009Z",
     "start_time": "2024-11-21T00:09:59.416386Z"
    }
   },
   "cell_type": "code",
   "source": [
    "missing_values = train_df.isnull().sum().sort_values(ascending=False)\n",
    "missing_columns = missing_values[missing_values > 0]\n",
    "\n",
    "print(f'Colunas com valores faltantes:\\n{missing_columns}')"
   ],
   "id": "70b4727307a123ae",
   "outputs": [
    {
     "name": "stdout",
     "output_type": "stream",
     "text": [
      "Colunas com valores faltantes:\n",
      "PoolQC          1453\n",
      "MiscFeature     1406\n",
      "Alley           1369\n",
      "Fence           1179\n",
      "MasVnrType       872\n",
      "FireplaceQu      690\n",
      "LotFrontage      259\n",
      "GarageYrBlt       81\n",
      "GarageCond        81\n",
      "GarageType        81\n",
      "GarageFinish      81\n",
      "GarageQual        81\n",
      "BsmtFinType2      38\n",
      "BsmtExposure      38\n",
      "BsmtQual          37\n",
      "BsmtCond          37\n",
      "BsmtFinType1      37\n",
      "MasVnrArea         8\n",
      "Electrical         1\n",
      "dtype: int64\n"
     ]
    }
   ],
   "execution_count": 9
  },
  {
   "metadata": {
    "ExecuteTime": {
     "end_time": "2024-11-21T00:11:22.215930Z",
     "start_time": "2024-11-21T00:11:22.201279Z"
    }
   },
   "cell_type": "code",
   "source": [
    "train_df.fillna(0, inplace=True)\n",
    "test_df.fillna(0, inplace=True)"
   ],
   "id": "8d1f86271de68f91",
   "outputs": [],
   "execution_count": 10
  },
  {
   "metadata": {
    "ExecuteTime": {
     "end_time": "2024-11-21T00:12:39.788936Z",
     "start_time": "2024-11-21T00:12:39.782120Z"
    }
   },
   "cell_type": "code",
   "source": [
    "num_cols_with_na = train_df.select_dtypes(include=['int64', 'float64']).columns[\n",
    "    train_df.select_dtypes(include=['int64', 'float64']).isnull().sum() > 0\n",
    "]"
   ],
   "id": "16ff6858e696316a",
   "outputs": [],
   "execution_count": 11
  },
  {
   "metadata": {
    "ExecuteTime": {
     "end_time": "2024-11-21T00:13:10.653934Z",
     "start_time": "2024-11-21T00:13:10.649524Z"
    }
   },
   "cell_type": "code",
   "source": [
    "for col in num_cols_with_na:\n",
    "    train_df[col] = train_df[col].fillna(train_df[col].median())"
   ],
   "id": "9e8f531faa559e14",
   "outputs": [],
   "execution_count": 12
  },
  {
   "metadata": {},
   "cell_type": "markdown",
   "source": "3.2. Encoding de variáveis categóricas",
   "id": "5db7c37d313161a"
  },
  {
   "metadata": {
    "ExecuteTime": {
     "end_time": "2024-11-21T00:32:44.272432Z",
     "start_time": "2024-11-21T00:32:44.263989Z"
    }
   },
   "cell_type": "code",
   "source": [
    "train_df['is_train'] = 1\n",
    "test_df['is_train'] = 0\n",
    "\n",
    "combined = pd.concat([train_df, test_df], axis=0)"
   ],
   "id": "5193de246e533cff",
   "outputs": [],
   "execution_count": 13
  },
  {
   "metadata": {},
   "cell_type": "markdown",
   "source": "One-hot encoding",
   "id": "302c9c13cbead66e"
  },
  {
   "metadata": {
    "ExecuteTime": {
     "end_time": "2024-11-21T00:32:45.494461Z",
     "start_time": "2024-11-21T00:32:45.453049Z"
    }
   },
   "cell_type": "code",
   "source": "combined = pd.get_dummies(combined, drop_first=True)",
   "id": "8a0529f083f389dc",
   "outputs": [],
   "execution_count": 14
  },
  {
   "metadata": {},
   "cell_type": "markdown",
   "source": "Dividindo os sets de treinamento e teste novamente",
   "id": "4a8130df578b763e"
  },
  {
   "metadata": {
    "ExecuteTime": {
     "end_time": "2024-11-21T00:33:24.680796Z",
     "start_time": "2024-11-21T00:33:24.667782Z"
    }
   },
   "cell_type": "code",
   "source": [
    "train = combined[combined['is_train'] == 1].drop(['is_train'], axis=1)\n",
    "test = combined[combined['is_train'] == 0].drop(['is_train'], axis=1)"
   ],
   "id": "b892f9e766df4bc4",
   "outputs": [],
   "execution_count": 15
  },
  {
   "metadata": {},
   "cell_type": "markdown",
   "source": "3.4. Verificando pré-processamento",
   "id": "3954c550c8ee7029"
  },
  {
   "metadata": {
    "ExecuteTime": {
     "end_time": "2024-11-21T00:35:44.972682Z",
     "start_time": "2024-11-21T00:35:44.964414Z"
    }
   },
   "cell_type": "code",
   "source": "print(f'Valores faltantes restantes:\\n{train_df.isnull().sum().sum()}')",
   "id": "ec127624bb4b374e",
   "outputs": [
    {
     "name": "stdout",
     "output_type": "stream",
     "text": [
      "Valores faltantes restantes:\n",
      "0\n"
     ]
    }
   ],
   "execution_count": 16
  },
  {
   "metadata": {
    "ExecuteTime": {
     "end_time": "2024-11-21T00:35:47.208497Z",
     "start_time": "2024-11-21T00:35:47.198338Z"
    }
   },
   "cell_type": "code",
   "source": "print(f'Preview do dataset processado:\\n{train_df.head()}')",
   "id": "77fbf4b8493d2578",
   "outputs": [
    {
     "name": "stdout",
     "output_type": "stream",
     "text": [
      "Preview do dataset processado:\n",
      "   Id  MSSubClass MSZoning  LotFrontage  LotArea Street Alley LotShape  \\\n",
      "0   1          60       RL         65.0     8450   Pave     0      Reg   \n",
      "1   2          20       RL         80.0     9600   Pave     0      Reg   \n",
      "2   3          60       RL         68.0    11250   Pave     0      IR1   \n",
      "3   4          70       RL         60.0     9550   Pave     0      IR1   \n",
      "4   5          60       RL         84.0    14260   Pave     0      IR1   \n",
      "\n",
      "  LandContour Utilities  ... PoolQC Fence MiscFeature MiscVal MoSold YrSold  \\\n",
      "0         Lvl    AllPub  ...      0     0           0       0      2   2008   \n",
      "1         Lvl    AllPub  ...      0     0           0       0      5   2007   \n",
      "2         Lvl    AllPub  ...      0     0           0       0      9   2008   \n",
      "3         Lvl    AllPub  ...      0     0           0       0      2   2006   \n",
      "4         Lvl    AllPub  ...      0     0           0       0     12   2008   \n",
      "\n",
      "  SaleType  SaleCondition  SalePrice  is_train  \n",
      "0       WD         Normal     208500         1  \n",
      "1       WD         Normal     181500         1  \n",
      "2       WD         Normal     223500         1  \n",
      "3       WD        Abnorml     140000         1  \n",
      "4       WD         Normal     250000         1  \n",
      "\n",
      "[5 rows x 82 columns]\n"
     ]
    }
   ],
   "execution_count": 17
  },
  {
   "metadata": {
    "ExecuteTime": {
     "end_time": "2024-11-21T00:39:04.334202Z",
     "start_time": "2024-11-21T00:39:04.329157Z"
    }
   },
   "cell_type": "code",
   "source": "numerical_features = train_df.select_dtypes(include=['int64', 'float64'])",
   "id": "ec46692f40ddad16",
   "outputs": [],
   "execution_count": 18
  },
  {
   "metadata": {
    "ExecuteTime": {
     "end_time": "2024-11-21T00:39:05.331698Z",
     "start_time": "2024-11-21T00:39:05.324802Z"
    }
   },
   "cell_type": "code",
   "source": "corr_matrix = numerical_features.corr()",
   "id": "d5bd3ca651e71eb3",
   "outputs": [],
   "execution_count": 19
  },
  {
   "metadata": {
    "ExecuteTime": {
     "end_time": "2024-11-21T00:39:06.464864Z",
     "start_time": "2024-11-21T00:39:06.457272Z"
    }
   },
   "cell_type": "code",
   "source": [
    "saleprice_corr = corr_matrix['SalePrice'].sort_values(ascending=False)\n",
    "print(saleprice_corr)"
   ],
   "id": "248623eb359a5d16",
   "outputs": [
    {
     "name": "stdout",
     "output_type": "stream",
     "text": [
      "SalePrice        1.000000\n",
      "OverallQual      0.790982\n",
      "GrLivArea        0.708624\n",
      "GarageCars       0.640409\n",
      "GarageArea       0.623431\n",
      "TotalBsmtSF      0.613581\n",
      "1stFlrSF         0.605852\n",
      "FullBath         0.560664\n",
      "TotRmsAbvGrd     0.533723\n",
      "YearBuilt        0.522897\n",
      "YearRemodAdd     0.507101\n",
      "MasVnrArea       0.472614\n",
      "Fireplaces       0.466929\n",
      "BsmtFinSF1       0.386420\n",
      "WoodDeckSF       0.324413\n",
      "2ndFlrSF         0.319334\n",
      "OpenPorchSF      0.315856\n",
      "HalfBath         0.284108\n",
      "LotArea          0.263843\n",
      "GarageYrBlt      0.261366\n",
      "BsmtFullBath     0.227122\n",
      "BsmtUnfSF        0.214479\n",
      "LotFrontage      0.209624\n",
      "BedroomAbvGr     0.168213\n",
      "ScreenPorch      0.111447\n",
      "PoolArea         0.092404\n",
      "MoSold           0.046432\n",
      "3SsnPorch        0.044584\n",
      "BsmtFinSF2      -0.011378\n",
      "BsmtHalfBath    -0.016844\n",
      "MiscVal         -0.021190\n",
      "Id              -0.021917\n",
      "LowQualFinSF    -0.025606\n",
      "YrSold          -0.028923\n",
      "OverallCond     -0.077856\n",
      "MSSubClass      -0.084284\n",
      "EnclosedPorch   -0.128578\n",
      "KitchenAbvGr    -0.135907\n",
      "is_train              NaN\n",
      "Name: SalePrice, dtype: float64\n"
     ]
    }
   ],
   "execution_count": 20
  },
  {
   "metadata": {
    "ExecuteTime": {
     "end_time": "2024-11-21T00:42:07.784087Z",
     "start_time": "2024-11-21T00:42:07.241782Z"
    }
   },
   "cell_type": "code",
   "source": [
    "plt.figure(figsize=(10, 8))\n",
    "top_corr_features = saleprice_corr.index[:10]\n",
    "sns.heatmap(corr_matrix.loc[top_corr_features, top_corr_features], annot=True, cmap='coolwarm')\n",
    "plt.title('Matriz de Correlação (Top Features)')\n",
    "plt.show()"
   ],
   "id": "3bce28ebc059e029",
   "outputs": [
    {
     "data": {
      "text/plain": [
       "<Figure size 1000x800 with 2 Axes>"
      ],
      "image/png": "[encoded data removed]"
     },
     "metadata": {},
     "output_type": "display_data"
    }
   ],
   "execution_count": 22
  },
  {
   "metadata": {},
   "cell_type": "markdown",
   "source": [
    "<strong>Com esse gráfico, podemos analisar que as características (features) com maior correlação com o preço de vendas (SalePrice) são: </strong></br>\n",
    "<ul>\n",
    "    <li><strong>GrLivArea_x_Overall (0.83):</strong> Essa característica de interação (área habitacional acima do nível do terreno x qualidade geral) mostra uma correlação muito forte e positiva, indicando que casas maiores e de maior qualidade tendem a ter preços de venda maiores</li>\n",
    "    <li><strong>OverallQuall (0.79):</strong> A Qualidade geral dos materiais da casa e o acabamento são indicadores fortes para preço de venda</li>\n",
    "    <li><strong>TotalSF (0.78):</strong> Metragem quadrada total, que combina o primeiro andar, o segundo andar e as áreas de subsolo, também tem uma alta correlação com o preço de venda</li>\n",
    "    <li><strong>GrLivArea (0.71):</strong> Área habitacional acima do nível do terreno (exceto o subsolo) é outra característica altamente correlacionada, como imóveis maiores são associados com maiores preços</li>\n",
    "</ul>\n",
    "\n",
    "<strong>Top Características para focar:</strong></br>\n",
    "<ul>\n",
    "    <li>GrLivArea_x_OverallQual, OverallQual, TotalSF e GrLivArea deveria ser priorizada na modelagem, já que mostram as maiores correlações com o preço de vendas (SalePrice)</li>\n",
    "</ul>"
   ],
   "id": "2370ea6a0a77fe81"
  },
  {
   "metadata": {},
   "cell_type": "markdown",
   "source": "4. Dividindo os dados",
   "id": "72a7affafc339395"
  },
  {
   "metadata": {
    "ExecuteTime": {
     "end_time": "2024-11-21T05:37:54.290014Z",
     "start_time": "2024-11-21T05:37:54.279452Z"
    }
   },
   "cell_type": "code",
   "source": [
    "X = train.drop(['SalePrice', 'Id'], axis=1)\n",
    "y = train['SalePrice']"
   ],
   "id": "a16ed6c1733db5e3",
   "outputs": [],
   "execution_count": 24
  },
  {
   "metadata": {
    "ExecuteTime": {
     "end_time": "2024-11-21T05:38:15.679830Z",
     "start_time": "2024-11-21T05:38:15.671072Z"
    }
   },
   "cell_type": "code",
   "source": "X_test = test.drop(['Id'], axis=1)",
   "id": "cc477bed00105e9e",
   "outputs": [],
   "execution_count": 25
  },
  {
   "metadata": {
    "ExecuteTime": {
     "end_time": "2024-11-21T05:39:20.040985Z",
     "start_time": "2024-11-21T05:39:20.034516Z"
    }
   },
   "cell_type": "code",
   "source": [
    "print(f'Shape dos dados de treinamento: {X.shape}')\n",
    "print(f'Shape dos dados de teste: {X_test.shape}')"
   ],
   "id": "2933a9a4135fb9f2",
   "outputs": [
    {
     "name": "stdout",
     "output_type": "stream",
     "text": [
      "Shape dos dados de treinamento: (1460, 267)\n",
      "Shape dos dados de teste: (1459, 268)\n"
     ]
    }
   ],
   "execution_count": 26
  },
  {
   "metadata": {},
   "cell_type": "markdown",
   "source": "test_size = 0.2: Reserva 20% dos dados para validação. random_state = 42: Garante reprodutibilidade por fixar a random seed",
   "id": "f5f018e3959ccf6c"
  },
  {
   "metadata": {},
   "cell_type": "markdown",
   "source": "5. Construindo modelos de previsão",
   "id": "2b381abe0a5173df"
  },
  {
   "metadata": {},
   "cell_type": "markdown",
   "source": "5.1. Regressão Linear",
   "id": "288c8a5e82ad84fc"
  },
  {
   "metadata": {
    "ExecuteTime": {
     "end_time": "2024-11-21T05:57:35.325833Z",
     "start_time": "2024-11-21T05:57:35.148546Z"
    }
   },
   "cell_type": "code",
   "source": [
    "from sklearn.linear_model import LinearRegression\n",
    "from sklearn.model_selection import cross_val_score\n",
    "from sklearn.preprocessing import LabelEncoder"
   ],
   "id": "e57a8cd730e3cfce",
   "outputs": [],
   "execution_count": 27
  },
  {
   "metadata": {},
   "cell_type": "markdown",
   "source": "Função para pré-processar os dados",
   "id": "1d415e8656455641"
  },
  {
   "metadata": {
    "ExecuteTime": {
     "end_time": "2024-11-21T06:01:53.783364Z",
     "start_time": "2024-11-21T06:01:53.773361Z"
    }
   },
   "cell_type": "code",
   "source": [
    "def prepare_data(data, is_train=True):\n",
    "    for column in data.select_dtypes(include=['object']).columns:\n",
    "        data[column] = data[column].fillna('Unknown')\n",
    "        data[column] = LabelEncoder().fit_transform(data[column])\n",
    "    \n",
    "    data = data.fillna(0)\n",
    "    \n",
    "    if '1stFlrSF' in data and '2ndFlrSF' in data and 'TotalBsmtSF' in data:\n",
    "        data['TotalSF'] = data['1stFlrSF'] + data['2ndFlrSF'] + data['TotalBsmtSF']\n",
    "    if 'GrLivArea' in data and 'OverallQual' in data:\n",
    "        data['GrLivArea_x_OverallQual'] = data['GrLivArea'] * data['OverallQual']\n",
    "        \n",
    "    return data"
   ],
   "id": "feedc1c0309a97d",
   "outputs": [],
   "execution_count": 29
  },
  {
   "metadata": {},
   "cell_type": "markdown",
   "source": "Pré-processar os dados de treinamento",
   "id": "556259de2bb3bf98"
  },
  {
   "metadata": {
    "ExecuteTime": {
     "end_time": "2024-11-21T06:02:34.535759Z",
     "start_time": "2024-11-21T06:02:34.521847Z"
    }
   },
   "cell_type": "code",
   "source": [
    "X = prepare_data(train.drop(['SalePrice', 'Id'], axis=1))\n",
    "y = train['SalePrice']"
   ],
   "id": "aef4ee249ff04a97",
   "outputs": [],
   "execution_count": 30
  },
  {
   "metadata": {},
   "cell_type": "markdown",
   "source": "Pré-processar os dados de teste",
   "id": "7d002351fdbff7e9"
  },
  {
   "metadata": {
    "ExecuteTime": {
     "end_time": "2024-11-21T06:03:21.580889Z",
     "start_time": "2024-11-21T06:03:21.570225Z"
    }
   },
   "cell_type": "code",
   "source": "X_test = prepare_data(test.drop(['Id'], axis=1), is_train=False)",
   "id": "f9272a230bfd3c0",
   "outputs": [],
   "execution_count": 31
  },
  {
   "metadata": {
    "ExecuteTime": {
     "end_time": "2024-11-21T06:04:17.792755Z",
     "start_time": "2024-11-21T06:04:17.784197Z"
    }
   },
   "cell_type": "code",
   "source": [
    "missing_cols = set(X.columns) - set(X_test.columns)\n",
    "for col in missing_cols:\n",
    "    X_test[col] = 0\n",
    "X_test = X_test[X.columns]"
   ],
   "id": "c5db61433b330e0d",
   "outputs": [],
   "execution_count": 32
  },
  {
   "metadata": {
    "ExecuteTime": {
     "end_time": "2024-11-21T06:08:19.429012Z",
     "start_time": "2024-11-21T06:08:18.754013Z"
    }
   },
   "cell_type": "code",
   "source": [
    "lr = LinearRegression()\n",
    "\n",
    "lr_cv_rmse = -cross_val_score(lr, X, y, cv=5, scoring='neg_mean_squared_error').mean()\n",
    "print(f'Linear Regression CV RMSE: {lr_cv_rmse:.4f}')"
   ],
   "id": "2eaa9e95213e4689",
   "outputs": [
    {
     "name": "stdout",
     "output_type": "stream",
     "text": [
      "Linear Regression CV RMSE: 2274310603.8968\n"
     ]
    }
   ],
   "execution_count": 34
  },
  {
   "metadata": {
    "ExecuteTime": {
     "end_time": "2024-11-21T06:20:13.055781Z",
     "start_time": "2024-11-21T06:20:13.014776Z"
    }
   },
   "cell_type": "code",
   "source": [
    "lr.fit(X, y)\n",
    "lr_pred = lr.predict(X_test)"
   ],
   "id": "1c3c5c8706ed2ce8",
   "outputs": [],
   "execution_count": 49
  },
  {
   "metadata": {},
   "cell_type": "markdown",
   "source": "5.2. Árvore de Decisão",
   "id": "688b35425f35bef7"
  },
  {
   "metadata": {
    "ExecuteTime": {
     "end_time": "2024-11-21T06:09:35.991250Z",
     "start_time": "2024-11-21T06:09:35.859746Z"
    }
   },
   "cell_type": "code",
   "source": "from sklearn.tree import DecisionTreeRegressor",
   "id": "f71557e57235cfb9",
   "outputs": [],
   "execution_count": 35
  },
  {
   "metadata": {
    "ExecuteTime": {
     "end_time": "2024-11-21T06:10:09.621404Z",
     "start_time": "2024-11-21T06:10:09.616582Z"
    }
   },
   "cell_type": "code",
   "source": "dt = DecisionTreeRegressor(random_state=42)",
   "id": "403069a80252b834",
   "outputs": [],
   "execution_count": 36
  },
  {
   "metadata": {
    "ExecuteTime": {
     "end_time": "2024-11-21T06:10:36.496754Z",
     "start_time": "2024-11-21T06:10:36.173753Z"
    }
   },
   "cell_type": "code",
   "source": [
    "dt_cv_rmse = -cross_val_score(dt, X, y, cv=5, scoring='neg_mean_squared_error').mean()\n",
    "\n",
    "print(f'Decision Tree CV RMSE: {dt_cv_rmse:.4f}')"
   ],
   "id": "3afea095a1fc694e",
   "outputs": [
    {
     "name": "stdout",
     "output_type": "stream",
     "text": [
      "Decision Tree CV RMSE: 1386196039.8616\n"
     ]
    }
   ],
   "execution_count": 37
  },
  {
   "metadata": {
    "ExecuteTime": {
     "end_time": "2024-11-21T06:11:16.634995Z",
     "start_time": "2024-11-21T06:11:16.551333Z"
    }
   },
   "cell_type": "code",
   "source": [
    "dt.fit(X, y)\n",
    "dt_pred = dt.predict(X_test)"
   ],
   "id": "ff320d3daa5ccddb",
   "outputs": [],
   "execution_count": 39
  },
  {
   "metadata": {},
   "cell_type": "markdown",
   "source": "5.3. Random Forest",
   "id": "cbb051b9478f2757"
  },
  {
   "metadata": {
    "ExecuteTime": {
     "end_time": "2024-11-21T06:11:50.279620Z",
     "start_time": "2024-11-21T06:11:49.805362Z"
    }
   },
   "cell_type": "code",
   "source": "from sklearn.ensemble import RandomForestRegressor",
   "id": "eb1862e0eacbece4",
   "outputs": [],
   "execution_count": 40
  },
  {
   "metadata": {
    "ExecuteTime": {
     "end_time": "2024-11-21T06:12:07.907791Z",
     "start_time": "2024-11-21T06:12:07.902791Z"
    }
   },
   "cell_type": "code",
   "source": "rf = RandomForestRegressor(n_estimators=100, random_state=42)",
   "id": "7d4476872985e0e8",
   "outputs": [],
   "execution_count": 41
  },
  {
   "metadata": {
    "ExecuteTime": {
     "end_time": "2024-11-21T06:12:45.770021Z",
     "start_time": "2024-11-21T06:12:31.688747Z"
    }
   },
   "cell_type": "code",
   "source": [
    "rf_cv_rmse = -cross_val_score(rf, X, y, cv=5, scoring='neg_mean_squared_error').mean()\n",
    "\n",
    "print(f'Random Forest CV RMSE: {rf_cv_rmse:.4f}')"
   ],
   "id": "6edd5972e175fe6b",
   "outputs": [
    {
     "name": "stdout",
     "output_type": "stream",
     "text": [
      "Random Forest CV RMSE: 915318023.7344\n"
     ]
    }
   ],
   "execution_count": 42
  },
  {
   "metadata": {
    "ExecuteTime": {
     "end_time": "2024-11-21T06:13:53.496179Z",
     "start_time": "2024-11-21T06:13:49.559676Z"
    }
   },
   "cell_type": "code",
   "source": [
    "rf.fit(X, y)\n",
    "rf_pred = rf.predict(X_test)"
   ],
   "id": "f21054d43528e09b",
   "outputs": [],
   "execution_count": 43
  },
  {
   "metadata": {},
   "cell_type": "markdown",
   "source": "5.4. XGBoost",
   "id": "259f6affdcc4724"
  },
  {
   "metadata": {
    "ExecuteTime": {
     "end_time": "2024-11-21T06:17:13.974559Z",
     "start_time": "2024-11-21T06:17:13.916476Z"
    }
   },
   "cell_type": "code",
   "source": "from xgboost import XGBRegressor",
   "id": "e21e1e3e8e752ed4",
   "outputs": [],
   "execution_count": 44
  },
  {
   "metadata": {
    "ExecuteTime": {
     "end_time": "2024-11-21T06:17:53.182140Z",
     "start_time": "2024-11-21T06:17:53.176130Z"
    }
   },
   "cell_type": "code",
   "source": "xgb = XGBRegressor(n_estimators=500, random_state=42, learning_rate=0.05, max_depth=4)",
   "id": "a59151f4ced224b",
   "outputs": [],
   "execution_count": 45
  },
  {
   "metadata": {
    "ExecuteTime": {
     "end_time": "2024-11-21T06:18:26.878876Z",
     "start_time": "2024-11-21T06:18:20.002998Z"
    }
   },
   "cell_type": "code",
   "source": [
    "xgb_cv_rmse = -cross_val_score(xgb, X, y, cv=5, scoring='neg_mean_squared_error').mean()\n",
    "\n",
    "print(f'XGBoost CV RMSE: {xgb_cv_rmse:.4f}')"
   ],
   "id": "5f3383a7890a3d2",
   "outputs": [
    {
     "name": "stdout",
     "output_type": "stream",
     "text": [
      "XGBoost CV RMSE: 724973941.8149\n"
     ]
    }
   ],
   "execution_count": 46
  },
  {
   "metadata": {
    "ExecuteTime": {
     "end_time": "2024-11-21T06:18:47.103160Z",
     "start_time": "2024-11-21T06:18:45.240579Z"
    }
   },
   "cell_type": "code",
   "source": [
    "xgb.fit(X, y)\n",
    "xgb_pred = xgb.predict(X_test)"
   ],
   "id": "9e797227bb05dd0a",
   "outputs": [],
   "execution_count": 47
  },
  {
   "metadata": {},
   "cell_type": "markdown",
   "source": "6. Avaliando performance dos modelos:",
   "id": "4bc8fa50bb898579"
  },
  {
   "metadata": {
    "ExecuteTime": {
     "end_time": "2024-11-21T06:20:16.465009Z",
     "start_time": "2024-11-21T06:20:16.249948Z"
    }
   },
   "cell_type": "code",
   "source": [
    "xgb_predictions = xgb.predict(X_test)\n",
    "rf_predictions = rf.predict(X_test)\n",
    "dt_predictions = dt.predict(X_test)\n",
    "lr_predictions = lr.predict(X_test)"
   ],
   "id": "e542042af3be9dc6",
   "outputs": [],
   "execution_count": 50
  },
  {
   "metadata": {
    "ExecuteTime": {
     "end_time": "2024-11-21T06:21:42.709318Z",
     "start_time": "2024-11-21T06:21:42.703319Z"
    }
   },
   "cell_type": "code",
   "source": [
    "model_performance = {\n",
    "    'Linear Regression': lr_cv_rmse,\n",
    "    'Decision Tree': dt_cv_rmse,\n",
    "    'Random Forest': rf_cv_rmse,\n",
    "    'XGBoost': xgb_cv_rmse\n",
    "}"
   ],
   "id": "f1224a6f986a3922",
   "outputs": [],
   "execution_count": 51
  },
  {
   "metadata": {
    "ExecuteTime": {
     "end_time": "2024-11-21T06:22:24.417468Z",
     "start_time": "2024-11-21T06:22:24.412229Z"
    }
   },
   "cell_type": "code",
   "source": [
    "for model, rmse in model_performance.items():\n",
    "    print(f'{model}: CV RMSE =  {rmse:.4f}')"
   ],
   "id": "d14874e9a51a867",
   "outputs": [
    {
     "name": "stdout",
     "output_type": "stream",
     "text": [
      "Linear Regression: CV RMSE =  2274310603.8968\n",
      "Decision Tree: CV RMSE =  1386196039.8616\n",
      "Random Forest: CV RMSE =  915318023.7344\n",
      "XGBoost: CV RMSE =  724973941.8149\n"
     ]
    }
   ],
   "execution_count": 53
  }
 ],
 "metadata": {
  "kernelspec": {
   "display_name": "Python 3",
   "language": "python",
   "name": "python3"
  },
  "language_info": {
   "codemirror_mode": {
    "name": "ipython",
    "version": 2
   },
   "file_extension": ".py",
   "mimetype": "text/x-python",
   "name": "python",
   "nbconvert_exporter": "python",
   "pygments_lexer": "ipython2",
   "version": "2.7.6"
  }
 },
 "nbformat": 4,
 "nbformat_minor": 5
}
